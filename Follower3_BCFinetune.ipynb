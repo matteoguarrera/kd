{
 "cells": [
  {
   "cell_type": "markdown",
   "source": [
    "# Finetune ResNet\n"
   ],
   "metadata": {
    "collapsed": false
   }
  },
  {
   "cell_type": "code",
   "execution_count": 1,
   "outputs": [
    {
     "name": "stdout",
     "output_type": "stream",
     "text": [
      "PyTorch Version:  1.13.1\n",
      "Torchvision Version:  0.14.1\n",
      "Initializing Datasets and Dataloaders...\n"
     ]
    }
   ],
   "source": [
    "from utils_webots import *\n",
    "print(\"PyTorch Version: \",torch.__version__)\n",
    "print(\"Torchvision Version: \",torchvision.__version__)\n",
    "\n",
    "# Models to choose from [resnet, alexnet, vgg, squeezenet, densenet, inception]\n",
    "model_name = \"squeezenet\"\n",
    "num_classes = 1\n",
    "batch_size = 16\n",
    "num_epochs = 10\n",
    "\n",
    "from cnn import ConvNeuralNet\n",
    "model_ft = ConvNeuralNet(1)  # one class\n",
    "\n",
    "# model_ft = models.squeezenet1_0(weights= True)\n",
    "# model_ft.classifier[1] = nn.Conv2d(512, num_classes, kernel_size=(1,1), stride=(1,1))\n",
    "# model_ft.num_classes = num_classes\n",
    "\n",
    "# model_ft = models.resnet18(weights=True)\n",
    "## set_parameter_requires_grad(model_ft, feature_extract)\n",
    "# num_ftrs = model_ft.fc.in_features\n",
    "# model_ft.fc = nn.Linear(num_ftrs, num_classes)\n",
    "# input_size = 224\n",
    "\n",
    "print(\"Initializing Datasets and Dataloaders...\")\n",
    "data_transforms = transforms.Compose([transforms.ToTensor()]) #, transforms.Resize((input_size, input_size)), ])\n",
    "dataset = WeBotsDataset(filename='df_follower_new', transform=data_transforms) # WeBotsDataset(transform=data_transforms)\n",
    "\n",
    "# # Create training and validation datasets\n",
    "train_dataset, test_dataset = torch.utils.data.random_split(dataset, [0.8, 0.2])\n",
    "\n",
    "train_loader = torch.utils.data.DataLoader(train_dataset, batch_size=batch_size, shuffle=False, num_workers=4)\n",
    "test_loader = torch.utils.data.DataLoader(test_dataset, batch_size=batch_size, shuffle=False, num_workers=4)\n",
    "\n",
    "dataloaders_dict = {'train': train_loader, 'val': test_loader}\n",
    "\n",
    "# Detect if we have a GPU available\n",
    "device = torch.device(\"cuda:0\" if torch.cuda.is_available() else \"cpu\")\n",
    "\n",
    "\n",
    "# Send the model to GPU\n",
    "model_ft = model_ft.to(device)\n",
    "\n",
    "# Sanity check\n",
    "img, target = next(iter(dataset))\n",
    "# plt.imshow(img[0]), target\n",
    "model_ft(img.cuda().float().unsqueeze(0))\n",
    "\n",
    "\n",
    "# Observe that all parameters are being optimized\n",
    "params_to_update = model_ft.parameters()\n",
    "optimizer_ft = optim.SGD(params_to_update, lr=0.001, momentum=0.9)\n",
    "\n",
    "# Setup the loss fxn\n",
    "criterion = nn.MSELoss()\n",
    "\n",
    "# Train and evaluate"
   ],
   "metadata": {
    "collapsed": false,
    "ExecuteTime": {
     "end_time": "2023-05-06T19:37:00.364760676Z",
     "start_time": "2023-05-06T19:36:55.847518172Z"
    }
   }
  },
  {
   "cell_type": "code",
   "execution_count": 17,
   "outputs": [
    {
     "data": {
      "text/plain": "(array([7.000e+00, 3.000e+00, 3.000e+00, 3.000e+00, 3.000e+00, 3.000e+00,\n        3.000e+00, 6.000e+00, 4.000e+00, 4.000e+00, 3.000e+00, 1.100e+01,\n        1.000e+01, 2.500e+01, 8.700e+01, 3.010e+02, 6.880e+02, 5.790e+02,\n        9.860e+02, 1.526e+03, 1.722e+03, 1.669e+03, 2.635e+03, 1.645e+03,\n        1.052e+03, 6.100e+02, 4.100e+02, 5.720e+02, 4.450e+02, 4.490e+02,\n        2.340e+02, 1.950e+02, 1.300e+02, 1.480e+02, 5.900e+01, 3.760e+02,\n        5.680e+02, 5.540e+02, 4.140e+02, 6.000e+01, 1.400e+01, 1.100e+01,\n        8.000e+00, 2.000e+00, 3.000e+00, 3.000e+00, 0.000e+00, 0.000e+00,\n        0.000e+00, 5.000e+00]),\n array([-0.5     , -0.482968, -0.465936, -0.448904, -0.431872, -0.41484 ,\n        -0.397808, -0.380776, -0.363744, -0.346712, -0.32968 , -0.312648,\n        -0.295616, -0.278584, -0.261552, -0.24452 , -0.227488, -0.210456,\n        -0.193424, -0.176392, -0.15936 , -0.142328, -0.125296, -0.108264,\n        -0.091232, -0.0742  , -0.057168, -0.040136, -0.023104, -0.006072,\n         0.01096 ,  0.027992,  0.045024,  0.062056,  0.079088,  0.09612 ,\n         0.113152,  0.130184,  0.147216,  0.164248,  0.18128 ,  0.198312,\n         0.215344,  0.232376,  0.249408,  0.26644 ,  0.283472,  0.300504,\n         0.317536,  0.334568,  0.3516  ]),\n <BarContainer object of 50 artists>)"
     },
     "execution_count": 17,
     "metadata": {},
     "output_type": "execute_result"
    },
    {
     "data": {
      "text/plain": "<Figure size 640x480 with 1 Axes>",
      "image/png": "[encoded data removed]"
     },
     "metadata": {},
     "output_type": "display_data"
    }
   ],
   "source": [
    "plt.hist(dataset.df_loaded['angle'],bins=50)\n",
    "\n",
    "# model_ft\n",
    "# i, t = next(iter(train_loader))\n",
    "# model_ft(img[0].unsqueeze(0))"
   ],
   "metadata": {
    "collapsed": false,
    "ExecuteTime": {
     "end_time": "2023-05-06T19:54:26.580092889Z",
     "start_time": "2023-05-06T19:54:26.493324305Z"
    }
   }
  },
  {
   "cell_type": "code",
   "execution_count": 11,
   "outputs": [
    {
     "data": {
      "text/plain": "tensor([-0.0198, -0.0025,  0.0008,  0.0016, -0.0301, -0.0140, -0.0092,  0.0056,\n        -0.0213, -0.0022,  0.0083,  0.0045, -0.0130, -0.0045, -0.0044, -0.0045],\n       device='cuda:0', grad_fn=<SqueezeBackward0>)"
     },
     "execution_count": 11,
     "metadata": {},
     "output_type": "execute_result"
    }
   ],
   "source": [
    "\n",
    "# img = next(iter(train_loader))\n",
    "# plt.imshow(img[0][0][0])\n",
    "# img[0].shape\n",
    "# model_ft(img[0].cuda())"
   ],
   "metadata": {
    "collapsed": false,
    "ExecuteTime": {
     "end_time": "2023-05-06T19:22:11.094776687Z",
     "start_time": "2023-05-06T19:22:10.916185525Z"
    }
   }
  },
  {
   "cell_type": "code",
   "execution_count": 11,
   "outputs": [
    {
     "name": "stdout",
     "output_type": "stream",
     "text": [
      "Epoch 0/9\n",
      "----------\n",
      "train Loss: 0.0024 Acc: 0.5513\n",
      "val Loss: 0.0021 Acc: 0.6668\n",
      "\n",
      "Epoch 1/9\n",
      "----------\n"
     ]
    },
    {
     "name": "stderr",
     "output_type": "stream",
     "text": [
      "/home/matteogu/miniconda3/lib/python3.8/site-packages/torch/nn/modules/loss.py:536: UserWarning: Using a target size (torch.Size([1])) that is different to the input size (torch.Size([])). This will likely lead to incorrect results due to broadcasting. Please ensure they have the same size.\n",
      "  return F.mse_loss(input, target, reduction=self.reduction)\n"
     ]
    },
    {
     "name": "stdout",
     "output_type": "stream",
     "text": [
      "train Loss: 0.0021 Acc: 0.5531\n",
      "val Loss: 0.0019 Acc: 0.6854\n",
      "\n",
      "Epoch 2/9\n",
      "----------\n",
      "train Loss: 0.0019 Acc: 0.5594\n",
      "val Loss: 0.0018 Acc: 0.6873\n",
      "\n",
      "Epoch 3/9\n",
      "----------\n",
      "train Loss: 0.0018 Acc: 0.5607\n",
      "val Loss: 0.0018 Acc: 0.6881\n",
      "\n",
      "Epoch 4/9\n",
      "----------\n",
      "train Loss: 0.0017 Acc: 0.5632\n",
      "val Loss: 0.0017 Acc: 0.6884\n",
      "\n",
      "Epoch 5/9\n",
      "----------\n",
      "train Loss: 0.0017 Acc: 0.5657\n",
      "val Loss: 0.0017 Acc: 0.6816\n",
      "\n",
      "Epoch 6/9\n",
      "----------\n",
      "train Loss: 0.0016 Acc: 0.5674\n",
      "val Loss: 0.0016 Acc: 0.6783\n",
      "\n",
      "Epoch 7/9\n",
      "----------\n",
      "train Loss: 0.0016 Acc: 0.5698\n",
      "val Loss: 0.0016 Acc: 0.6742\n",
      "\n",
      "Epoch 8/9\n",
      "----------\n",
      "train Loss: 0.0016 Acc: 0.5705\n",
      "val Loss: 0.0016 Acc: 0.6679\n",
      "\n",
      "Epoch 9/9\n",
      "----------\n",
      "train Loss: 0.0015 Acc: 0.5726\n",
      "val Loss: 0.0016 Acc: 0.6643\n",
      "\n",
      "Training complete in 0m 38s\n",
      "Best val Acc: 0.688408\n"
     ]
    }
   ],
   "source": [
    "model, dataloaders, optimizer, num_epochs, is_inception = model_ft, dataloaders_dict, optimizer_ft, num_epochs, (model_name==\"inception\")\n",
    "\n",
    "since = time.time()\n",
    "\n",
    "val_acc_history = []\n",
    "\n",
    "best_model_wts = copy.deepcopy(model.state_dict())\n",
    "best_acc = 0.0\n",
    "\n",
    "for epoch in range(num_epochs):\n",
    "    print('Epoch {}/{}'.format(epoch, num_epochs - 1))\n",
    "    print('-' * 10)\n",
    "\n",
    "    # Each epoch has a training and validation phase\n",
    "    for phase in ['train', 'val']:\n",
    "        if phase == 'train':\n",
    "            model.train()  # Set model to training mode\n",
    "        else:\n",
    "            model.eval()   # Set model to evaluate mode\n",
    "\n",
    "        running_loss = 0.0\n",
    "        running_corrects = 0\n",
    "\n",
    "        # Iterate over data.\n",
    "        for inputs, (_, labels) in dataloaders[phase]:\n",
    "            inputs = inputs.to(device)\n",
    "            labels = labels.to(device)\n",
    "\n",
    "            # zero the parameter gradients\n",
    "            optimizer.zero_grad()\n",
    "\n",
    "            # forward\n",
    "            # track history if only in train\n",
    "            with torch.set_grad_enabled(phase == 'train'):\n",
    "                # Get model outputs and calculate loss\n",
    "                # Special case for inception because in training it has an auxiliary output. In train\n",
    "                #   mode we calculate the loss by summing the final output and the auxiliary output\n",
    "                #   but in testing we only consider the final output.\n",
    "                outputs = model(inputs)\n",
    "                # print(outputs.shape, labels.shape)\n",
    "                # loss = criterion(outputs, labels.unsqueeze(1).float())\n",
    "                # print(outputs.shape, labels.shape)\n",
    "                loss = criterion(outputs, labels.float())\n",
    "\n",
    "                # print(loss)\n",
    "                # _, preds = torch.max(outputs, 1)\n",
    "                preds = outputs\n",
    "\n",
    "                # backward + optimize only if in training phase\n",
    "                if phase == 'train':\n",
    "                    loss.backward()\n",
    "                    optimizer.step()\n",
    "\n",
    "            # statistics\n",
    "            running_loss += loss.item() * inputs.size(0)\n",
    "            running_corrects += torch.sum( (preds - labels.data) < 1e-2) # just a threshold\n",
    "\n",
    "        epoch_loss = running_loss / len(dataloaders[phase].dataset)\n",
    "        epoch_acc = running_corrects.double() / len(dataloaders[phase].dataset)\n",
    "\n",
    "        print('{} Loss: {:.4f} Acc: {:.4f}'.format(phase, epoch_loss, epoch_acc))\n",
    "\n",
    "        # deep copy the model\n",
    "        if phase == 'val' and epoch_acc > best_acc:\n",
    "            best_acc = epoch_acc\n",
    "            best_model_wts = copy.deepcopy(model.state_dict())\n",
    "        if phase == 'val':\n",
    "            val_acc_history.append(epoch_acc)\n",
    "\n",
    "    print()\n",
    "\n",
    "time_elapsed = time.time() - since\n",
    "print('Training complete in {:.0f}m {:.0f}s'.format(time_elapsed // 60, time_elapsed % 60))\n",
    "print('Best val Acc: {:4f}'.format(best_acc))\n",
    "\n",
    "# load best model weights\n",
    "model.load_state_dict(best_model_wts)\n",
    "torch.save(model.cpu().state_dict(), 'model_weights_small_angle.pth')"
   ],
   "metadata": {
    "collapsed": false,
    "ExecuteTime": {
     "end_time": "2023-05-06T19:39:40.975696104Z",
     "start_time": "2023-05-06T19:39:03.365391460Z"
    }
   }
  },
  {
   "cell_type": "code",
   "execution_count": 12,
   "outputs": [
    {
     "data": {
      "text/plain": "(tensor(-0.1711, device='cuda:0'), tensor([-0.1953], device='cuda:0'))"
     },
     "execution_count": 12,
     "metadata": {},
     "output_type": "execute_result"
    }
   ],
   "source": [
    "preds, labels.data\n"
   ],
   "metadata": {
    "collapsed": false,
    "ExecuteTime": {
     "end_time": "2023-05-06T19:39:47.226399201Z",
     "start_time": "2023-05-06T19:39:47.218620094Z"
    }
   }
  },
  {
   "cell_type": "code",
   "execution_count": 16,
   "outputs": [
    {
     "ename": "RuntimeError",
     "evalue": "CUDA error: unspecified launch failure\nCUDA kernel errors might be asynchronously reported at some other API call,so the stacktrace below might be incorrect.\nFor debugging consider passing CUDA_LAUNCH_BLOCKING=1.",
     "output_type": "error",
     "traceback": [
      "\u001B[0;31m---------------------------------------------------------------------------\u001B[0m",
      "\u001B[0;31mRuntimeError\u001B[0m                              Traceback (most recent call last)",
      "Cell \u001B[0;32mIn[16], line 1\u001B[0m\n\u001B[0;32m----> 1\u001B[0m torch\u001B[38;5;241m.\u001B[39msave(\u001B[43mmodel\u001B[49m\u001B[38;5;241;43m.\u001B[39;49m\u001B[43mcpu\u001B[49m\u001B[43m(\u001B[49m\u001B[43m)\u001B[49m\u001B[38;5;241m.\u001B[39mstate_dict(), \u001B[38;5;124m'\u001B[39m\u001B[38;5;124mmodel_weights.pth\u001B[39m\u001B[38;5;124m'\u001B[39m)\n",
      "File \u001B[0;32m~/miniconda3/lib/python3.8/site-packages/torch/nn/modules/module.py:798\u001B[0m, in \u001B[0;36mModule.cpu\u001B[0;34m(self)\u001B[0m\n\u001B[1;32m    789\u001B[0m \u001B[38;5;28;01mdef\u001B[39;00m \u001B[38;5;21mcpu\u001B[39m(\u001B[38;5;28mself\u001B[39m: T) \u001B[38;5;241m-\u001B[39m\u001B[38;5;241m>\u001B[39m T:\n\u001B[1;32m    790\u001B[0m     \u001B[38;5;124mr\u001B[39m\u001B[38;5;124;03m\"\"\"Moves all model parameters and buffers to the CPU.\u001B[39;00m\n\u001B[1;32m    791\u001B[0m \n\u001B[1;32m    792\u001B[0m \u001B[38;5;124;03m    .. note::\u001B[39;00m\n\u001B[0;32m   (...)\u001B[0m\n\u001B[1;32m    796\u001B[0m \u001B[38;5;124;03m        Module: self\u001B[39;00m\n\u001B[1;32m    797\u001B[0m \u001B[38;5;124;03m    \"\"\"\u001B[39;00m\n\u001B[0;32m--> 798\u001B[0m     \u001B[38;5;28;01mreturn\u001B[39;00m \u001B[38;5;28;43mself\u001B[39;49m\u001B[38;5;241;43m.\u001B[39;49m\u001B[43m_apply\u001B[49m\u001B[43m(\u001B[49m\u001B[38;5;28;43;01mlambda\u001B[39;49;00m\u001B[43m \u001B[49m\u001B[43mt\u001B[49m\u001B[43m:\u001B[49m\u001B[43m \u001B[49m\u001B[43mt\u001B[49m\u001B[38;5;241;43m.\u001B[39;49m\u001B[43mcpu\u001B[49m\u001B[43m(\u001B[49m\u001B[43m)\u001B[49m\u001B[43m)\u001B[49m\n",
      "File \u001B[0;32m~/miniconda3/lib/python3.8/site-packages/torch/nn/modules/module.py:641\u001B[0m, in \u001B[0;36mModule._apply\u001B[0;34m(self, fn)\u001B[0m\n\u001B[1;32m    639\u001B[0m \u001B[38;5;28;01mdef\u001B[39;00m \u001B[38;5;21m_apply\u001B[39m(\u001B[38;5;28mself\u001B[39m, fn):\n\u001B[1;32m    640\u001B[0m     \u001B[38;5;28;01mfor\u001B[39;00m module \u001B[38;5;129;01min\u001B[39;00m \u001B[38;5;28mself\u001B[39m\u001B[38;5;241m.\u001B[39mchildren():\n\u001B[0;32m--> 641\u001B[0m         \u001B[43mmodule\u001B[49m\u001B[38;5;241;43m.\u001B[39;49m\u001B[43m_apply\u001B[49m\u001B[43m(\u001B[49m\u001B[43mfn\u001B[49m\u001B[43m)\u001B[49m\n\u001B[1;32m    643\u001B[0m     \u001B[38;5;28;01mdef\u001B[39;00m \u001B[38;5;21mcompute_should_use_set_data\u001B[39m(tensor, tensor_applied):\n\u001B[1;32m    644\u001B[0m         \u001B[38;5;28;01mif\u001B[39;00m torch\u001B[38;5;241m.\u001B[39m_has_compatible_shallow_copy_type(tensor, tensor_applied):\n\u001B[1;32m    645\u001B[0m             \u001B[38;5;66;03m# If the new tensor has compatible tensor type as the existing tensor,\u001B[39;00m\n\u001B[1;32m    646\u001B[0m             \u001B[38;5;66;03m# the current behavior is to change the tensor in-place using `.data =`,\u001B[39;00m\n\u001B[0;32m   (...)\u001B[0m\n\u001B[1;32m    651\u001B[0m             \u001B[38;5;66;03m# global flag to let the user control whether they want the future\u001B[39;00m\n\u001B[1;32m    652\u001B[0m             \u001B[38;5;66;03m# behavior of overwriting the existing tensor or not.\u001B[39;00m\n",
      "File \u001B[0;32m~/miniconda3/lib/python3.8/site-packages/torch/nn/modules/module.py:664\u001B[0m, in \u001B[0;36mModule._apply\u001B[0;34m(self, fn)\u001B[0m\n\u001B[1;32m    660\u001B[0m \u001B[38;5;66;03m# Tensors stored in modules are graph leaves, and we don't want to\u001B[39;00m\n\u001B[1;32m    661\u001B[0m \u001B[38;5;66;03m# track autograd history of `param_applied`, so we have to use\u001B[39;00m\n\u001B[1;32m    662\u001B[0m \u001B[38;5;66;03m# `with torch.no_grad():`\u001B[39;00m\n\u001B[1;32m    663\u001B[0m \u001B[38;5;28;01mwith\u001B[39;00m torch\u001B[38;5;241m.\u001B[39mno_grad():\n\u001B[0;32m--> 664\u001B[0m     param_applied \u001B[38;5;241m=\u001B[39m \u001B[43mfn\u001B[49m\u001B[43m(\u001B[49m\u001B[43mparam\u001B[49m\u001B[43m)\u001B[49m\n\u001B[1;32m    665\u001B[0m should_use_set_data \u001B[38;5;241m=\u001B[39m compute_should_use_set_data(param, param_applied)\n\u001B[1;32m    666\u001B[0m \u001B[38;5;28;01mif\u001B[39;00m should_use_set_data:\n",
      "File \u001B[0;32m~/miniconda3/lib/python3.8/site-packages/torch/nn/modules/module.py:798\u001B[0m, in \u001B[0;36mModule.cpu.<locals>.<lambda>\u001B[0;34m(t)\u001B[0m\n\u001B[1;32m    789\u001B[0m \u001B[38;5;28;01mdef\u001B[39;00m \u001B[38;5;21mcpu\u001B[39m(\u001B[38;5;28mself\u001B[39m: T) \u001B[38;5;241m-\u001B[39m\u001B[38;5;241m>\u001B[39m T:\n\u001B[1;32m    790\u001B[0m     \u001B[38;5;124mr\u001B[39m\u001B[38;5;124;03m\"\"\"Moves all model parameters and buffers to the CPU.\u001B[39;00m\n\u001B[1;32m    791\u001B[0m \n\u001B[1;32m    792\u001B[0m \u001B[38;5;124;03m    .. note::\u001B[39;00m\n\u001B[0;32m   (...)\u001B[0m\n\u001B[1;32m    796\u001B[0m \u001B[38;5;124;03m        Module: self\u001B[39;00m\n\u001B[1;32m    797\u001B[0m \u001B[38;5;124;03m    \"\"\"\u001B[39;00m\n\u001B[0;32m--> 798\u001B[0m     \u001B[38;5;28;01mreturn\u001B[39;00m \u001B[38;5;28mself\u001B[39m\u001B[38;5;241m.\u001B[39m_apply(\u001B[38;5;28;01mlambda\u001B[39;00m t: \u001B[43mt\u001B[49m\u001B[38;5;241;43m.\u001B[39;49m\u001B[43mcpu\u001B[49m\u001B[43m(\u001B[49m\u001B[43m)\u001B[49m)\n",
      "\u001B[0;31mRuntimeError\u001B[0m: CUDA error: unspecified launch failure\nCUDA kernel errors might be asynchronously reported at some other API call,so the stacktrace below might be incorrect.\nFor debugging consider passing CUDA_LAUNCH_BLOCKING=1."
     ]
    }
   ],
   "source": [
    "torch.save(model.cpu().state_dict(), 'model_weights.pth')"
   ],
   "metadata": {
    "collapsed": false,
    "ExecuteTime": {
     "end_time": "2023-05-06T07:14:03.465879716Z",
     "start_time": "2023-05-06T07:14:03.401028182Z"
    }
   }
  }
 ],
 "metadata": {
  "kernelspec": {
   "display_name": "Python 3",
   "language": "python",
   "name": "python3"
  },
  "language_info": {
   "codemirror_mode": {
    "name": "ipython",
    "version": 2
   },
   "file_extension": ".py",
   "mimetype": "text/x-python",
   "name": "python",
   "nbconvert_exporter": "python",
   "pygments_lexer": "ipython2",
   "version": "2.7.6"
  }
 },
 "nbformat": 4,
 "nbformat_minor": 0
}
