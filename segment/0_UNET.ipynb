{
 "cells": [
  {
   "cell_type": "code",
   "execution_count": 1,
   "outputs": [
    {
     "name": "stdout",
     "output_type": "stream",
     "text": [
      "Data Loaded Successfully!\n"
     ]
    }
   ],
   "source": [
    "import os\n",
    "import torch\n",
    "from utils import *\n",
    "from model import *\n",
    "\n",
    "dataset = MyDataset()\n",
    "torch.manual_seed(23)\n",
    "train_dataset, test_dataset = torch.utils.data.random_split(dataset, [0.8, 0.2],\n",
    "                                                            generator=torch.Generator().manual_seed(23))\n",
    "\n",
    "train_loader = torch.utils.data.DataLoader(train_dataset, batch_size=128, shuffle=False, num_workers=4)\n",
    "test_loader = torch.utils.data.DataLoader(test_dataset, batch_size=128, shuffle=False, num_workers=4)\n",
    "\n",
    "LOAD_MODEL = False\n",
    "device = 'cuda:0' if torch.cuda.is_available() else \"cpu\"\n",
    "lr = 0.00005\n",
    "epochs = 20\n"
   ],
   "metadata": {
    "collapsed": false,
    "ExecuteTime": {
     "end_time": "2023-05-11T06:16:53.608042526Z",
     "start_time": "2023-05-11T06:16:51.578910154Z"
    }
   }
  },
  {
   "cell_type": "code",
   "execution_count": 8,
   "outputs": [
    {
     "data": {
      "text/plain": "tensor([[[[107., 108., 107.,  ...,  81.,  81.,  81.],\n          [107., 108., 107.,  ...,  83.,  83.,  83.],\n          [110., 109., 108.,  ...,  84.,  84.,  84.],\n          ...,\n          [ 68.,  67.,  67.,  ...,  48.,  48.,  46.],\n          [ 67.,  67.,  67.,  ...,  47.,  47.,  46.],\n          [ 67.,  66.,  66.,  ...,  46.,  46.,  47.]],\n\n         [[126., 127., 126.,  ..., 102., 102., 102.],\n          [126., 127., 126.,  ..., 101., 101., 101.],\n          [127., 128., 127.,  ..., 102., 102., 102.],\n          ...,\n          [ 69.,  68.,  68.,  ...,  49.,  47.,  47.],\n          [ 68.,  68.,  68.,  ...,  46.,  48.,  47.],\n          [ 68.,  67.,  67.,  ...,  47.,  47.,  48.]],\n\n         [[168., 169., 168.,  ..., 147., 147., 147.],\n          [168., 169., 168.,  ..., 147., 147., 147.],\n          [170., 170., 169.,  ..., 148., 148., 148.],\n          ...,\n          [ 73.,  70.,  70.,  ...,  53.,  52.,  51.],\n          [ 72.,  70.,  70.,  ...,  51.,  52.,  51.],\n          [ 72.,  69.,  69.,  ...,  51.,  51.,  52.]]],\n\n\n        [[[107., 106., 106.,  ...,  82.,  81.,  80.],\n          [107., 107., 107.,  ...,  83.,  83.,  83.],\n          [108., 108., 108.,  ...,  83.,  83.,  84.],\n          ...,\n          [ 68.,  67.,  67.,  ...,  47.,  46.,  47.],\n          [ 67.,  67.,  66.,  ...,  47.,  46.,  47.],\n          [ 66.,  67.,  66.,  ...,  46.,  46.,  47.]],\n\n         [[126., 125., 125.,  ..., 103., 102., 101.],\n          [126., 126., 126.,  ..., 101., 101., 101.],\n          [127., 127., 127.,  ..., 101., 101., 102.],\n          ...,\n          [ 69.,  68.,  68.,  ...,  48.,  47.,  48.],\n          [ 68.,  68.,  67.,  ...,  48.,  47.,  48.],\n          [ 67.,  68.,  67.,  ...,  47.,  47.,  48.]],\n\n         [[168., 167., 167.,  ..., 148., 147., 146.],\n          [168., 168., 168.,  ..., 147., 147., 147.],\n          [169., 169., 169.,  ..., 147., 147., 148.],\n          ...,\n          [ 71.,  72.,  70.,  ...,  52.,  51.,  52.],\n          [ 72.,  70.,  71.,  ...,  52.,  51.,  52.],\n          [ 69.,  72.,  69.,  ...,  51.,  51.,  52.]]],\n\n\n        [[[ 73.,  71.,  73.,  ...,  72.,  72.,  74.],\n          [ 74.,  74.,  74.,  ...,  73.,  74.,  74.],\n          [ 75.,  76.,  76.,  ...,  74.,  74.,  76.],\n          ...,\n          [ 42.,  42.,  41.,  ...,  43.,  44.,  43.],\n          [ 42.,  42.,  41.,  ...,  44.,  44.,  43.],\n          [ 41.,  40.,  41.,  ...,  43.,  43.,  43.]],\n\n         [[ 92.,  92.,  92.,  ...,  93.,  93.,  92.],\n          [ 92.,  93.,  93.,  ...,  94.,  95.,  95.],\n          [ 93.,  94.,  95.,  ...,  95.,  95.,  95.],\n          ...,\n          [ 42.,  41.,  42.,  ...,  44.,  45.,  44.],\n          [ 42.,  41.,  42.,  ...,  45.,  45.,  44.],\n          [ 42.,  41.,  41.,  ...,  44.,  44.,  44.]],\n\n         [[135., 135., 135.,  ..., 138., 138., 138.],\n          [138., 136., 136.,  ..., 139., 140., 140.],\n          [139., 140., 138.,  ..., 140., 140., 138.],\n          ...,\n          [ 44.,  46.,  44.,  ...,  48.,  49.,  48.],\n          [ 44.,  46.,  44.,  ...,  49.,  49.,  48.],\n          [ 44.,  45.,  43.,  ...,  48.,  48.,  48.]]],\n\n\n        ...,\n\n\n        [[[ 85.,  85.,  85.,  ..., 109., 109., 109.],\n          [ 87.,  87.,  86.,  ..., 111., 110., 110.],\n          [ 88.,  88.,  88.,  ..., 110., 111., 111.],\n          ...,\n          [ 49.,  48.,  49.,  ...,  69.,  69.,  70.],\n          [ 49.,  50.,  50.,  ...,  69.,  68.,  68.],\n          [ 49.,  49.,  49.,  ...,  69.,  67.,  68.]],\n\n         [[103., 103., 103.,  ..., 126., 126., 126.],\n          [105., 106., 105.,  ..., 130., 129., 129.],\n          [107., 107., 107.,  ..., 129., 130., 130.],\n          ...,\n          [ 50.,  49.,  50.,  ...,  70.,  70.,  71.],\n          [ 50.,  51.,  51.,  ...,  70.,  69.,  69.],\n          [ 50.,  50.,  50.,  ...,  70.,  68.,  69.]],\n\n         [[149., 149., 149.,  ..., 169., 169., 169.],\n          [151., 149., 148.,  ..., 172., 169., 169.],\n          [150., 150., 150.,  ..., 169., 170., 170.],\n          ...,\n          [ 54.,  53.,  54.,  ...,  72.,  72.,  73.],\n          [ 54.,  55.,  55.,  ...,  72.,  71.,  71.],\n          [ 54.,  54.,  54.,  ...,  72.,  70.,  71.]]],\n\n\n        [[[ 73.,  74.,  73.,  ...,  74.,  73.,  72.],\n          [ 74.,  74.,  74.,  ...,  74.,  74.,  74.],\n          [ 74.,  74.,  73.,  ...,  74.,  75.,  74.],\n          ...,\n          [ 40.,  40.,  41.,  ...,  42.,  42.,  43.],\n          [ 41.,  41.,  41.,  ...,  42.,  42.,  42.],\n          [ 41.,  42.,  41.,  ...,  41.,  41.,  42.]],\n\n         [[ 91.,  92.,  91.,  ...,  91.,  92.,  91.],\n          [ 92.,  92.,  92.,  ...,  93.,  93.,  93.],\n          [ 95.,  95.,  94.,  ...,  93.,  94.,  93.],\n          ...,\n          [ 41.,  41.,  42.,  ...,  43.,  43.,  42.],\n          [ 40.,  40.,  41.,  ...,  43.,  43.,  43.],\n          [ 40.,  42.,  41.,  ...,  42.,  42.,  43.]],\n\n         [[137., 138., 137.,  ..., 134., 134., 133.],\n          [138., 138., 138.,  ..., 135., 135., 135.],\n          [140., 140., 139.,  ..., 136., 137., 136.],\n          ...,\n          [ 43.,  45.,  46.,  ...,  47.,  47.,  47.],\n          [ 45.,  45.,  43.,  ...,  47.,  47.,  47.],\n          [ 45.,  44.,  43.,  ...,  46.,  46.,  47.]]],\n\n\n        [[[ 86.,  86.,  86.,  ..., 109., 109., 109.],\n          [ 87.,  87.,  88.,  ..., 110., 110., 111.],\n          [ 89.,  89.,  88.,  ..., 111., 111., 111.],\n          ...,\n          [ 49.,  48.,  49.,  ...,  70.,  70.,  69.],\n          [ 49.,  49.,  49.,  ...,  69.,  68.,  70.],\n          [ 48.,  49.,  49.,  ...,  70.,  69.,  69.]],\n\n         [[104., 105., 105.,  ..., 126., 126., 128.],\n          [106., 106., 107.,  ..., 129., 129., 130.],\n          [108., 108., 107.,  ..., 128., 128., 130.],\n          ...,\n          [ 50.,  49.,  50.,  ...,  70.,  70.,  69.],\n          [ 50.,  50.,  50.,  ...,  69.,  68.,  70.],\n          [ 49.,  50.,  50.,  ...,  70.,  69.,  69.]],\n\n         [[150., 148., 148.,  ..., 169., 169., 170.],\n          [149., 149., 150.,  ..., 171., 171., 170.],\n          [150., 151., 150.,  ..., 171., 171., 170.],\n          ...,\n          [ 54.,  53.,  54.,  ...,  72.,  72.,  71.],\n          [ 54.,  54.,  54.,  ...,  71.,  70.,  72.],\n          [ 53.,  54.,  54.,  ...,  72.,  71.,  71.]]]], dtype=torch.float64)"
     },
     "execution_count": 8,
     "metadata": {},
     "output_type": "execute_result"
    }
   ],
   "source": [
    "next(iter(train_loader))[0].shape"
   ],
   "metadata": {
    "collapsed": false,
    "ExecuteTime": {
     "end_time": "2023-05-11T07:04:24.348724824Z",
     "start_time": "2023-05-11T07:04:24.214016058Z"
    }
   }
  },
  {
   "cell_type": "code",
   "execution_count": 4,
   "outputs": [
    {
     "name": "stdout",
     "output_type": "stream",
     "text": [
      "Training\n",
      "Epoch: 0\n",
      "Entering into train function\n",
      "0 10 20 30 40 50 Validation\n",
      "0.83 0.84 0.83 0.84 0.84 0.84 0.84 0.84 0.84 0.84 0.84 0.84 0.84 0.84 0.84 [Loss: 1.77] Epoch completed and model saved!\n",
      "Epoch: 1\n",
      "Entering into train function\n",
      "0 10 20 30 40 50 Validation\n",
      "0.84 0.85 0.84 0.85 0.85 0.85 0.85 0.85 0.85 0.85 0.85 0.85 0.84 0.85 0.85 [Loss: 1.03] Epoch completed and model saved!\n",
      "Epoch: 2\n",
      "Entering into train function\n",
      "0 10 20 30 40 50 Validation\n",
      "0.84 0.85 0.84 0.85 0.85 0.85 0.85 0.85 0.85 0.85 0.85 0.85 0.85 0.85 0.85 [Loss: 0.73] Epoch completed and model saved!\n",
      "Epoch: 3\n",
      "Entering into train function\n",
      "0 10 20 30 40 50 Validation\n",
      "0.84 0.85 0.85 0.85 0.85 0.85 0.86 0.85 0.85 0.85 0.85 0.85 0.85 0.85 0.85 [Loss: 0.60] Epoch completed and model saved!\n",
      "Epoch: 4\n",
      "Entering into train function\n",
      "0 10 20 30 40 50 Validation\n",
      "0.85 0.86 0.86 0.86 0.86 0.86 0.86 0.86 0.86 0.86 0.86 0.86 0.86 0.86 0.86 [Loss: 0.52] Epoch completed and model saved!\n",
      "Epoch: 5\n",
      "Entering into train function\n",
      "0 10 20 30 40 50 Validation\n",
      "0.86 0.87 0.86 0.87 0.87 0.87 0.87 0.87 0.87 0.86 0.86 0.86 0.86 0.86 0.87 [Loss: 0.47] Epoch completed and model saved!\n",
      "Epoch: 6\n",
      "Entering into train function\n",
      "0 10 20 30 40 50 Validation\n",
      "0.86 0.87 0.87 0.87 0.87 0.87 0.87 0.87 0.87 0.87 0.87 0.87 0.87 0.87 0.87 [Loss: 0.43] Epoch completed and model saved!\n",
      "Epoch: 7\n",
      "Entering into train function\n",
      "0 10 20 30 40 50 Validation\n",
      "0.87 0.88 0.88 0.88 0.88 0.88 0.88 0.88 0.88 0.88 0.88 0.88 0.88 0.88 0.88 [Loss: 0.39] Epoch completed and model saved!\n",
      "Epoch: 8\n",
      "Entering into train function\n",
      "0 10 20 30 40 50 Validation\n",
      "0.88 0.89 0.88 0.89 0.89 0.89 0.89 0.89 0.89 0.89 0.89 0.89 0.89 0.89 0.89 [Loss: 0.37] Epoch completed and model saved!\n",
      "Epoch: 9\n",
      "Entering into train function\n",
      "0 10 20 30 40 50 Validation\n",
      "0.88 0.89 0.89 0.89 0.89 0.89 0.89 0.89 0.89 0.89 0.89 0.89 0.89 0.89 0.89 [Loss: 0.34] Epoch completed and model saved!\n",
      "Epoch: 10\n",
      "Entering into train function\n",
      "0 10 20 30 40 50 Validation\n",
      "0.89 0.90 0.89 0.90 0.90 0.90 0.90 0.90 0.90 0.90 0.90 0.90 0.90 0.90 0.90 [Loss: 0.32] Epoch completed and model saved!\n",
      "Epoch: 11\n",
      "Entering into train function\n",
      "0 10 20 30 40 50 Validation\n",
      "0.89 0.90 0.90 0.90 0.90 0.90 0.90 0.90 0.90 0.90 0.90 0.90 0.90 0.90 0.90 [Loss: 0.30] Epoch completed and model saved!\n",
      "Epoch: 12\n",
      "Entering into train function\n",
      "0 10 20 30 40 50 Validation\n",
      "0.90 0.90 0.90 0.90 0.90 0.90 0.90 0.90 0.90 0.90 0.90 0.90 0.90 0.90 0.91 [Loss: 0.29] Epoch completed and model saved!\n",
      "Epoch: 13\n",
      "Entering into train function\n",
      "0 10 20 30 40 50 Validation\n",
      "0.90 0.91 0.90 0.91 0.91 0.91 0.91 0.91 0.91 0.91 0.91 0.91 0.91 0.91 0.91 [Loss: 0.28] Epoch completed and model saved!\n",
      "Epoch: 14\n",
      "Entering into train function\n",
      "0 10 20 30 40 50 Validation\n",
      "0.90 0.91 0.91 0.91 0.91 0.91 0.91 0.91 0.91 0.91 0.91 0.91 0.91 0.91 0.91 [Loss: 0.27] Epoch completed and model saved!\n",
      "Epoch: 15\n",
      "Entering into train function\n",
      "0 10 20 30 40 50 Validation\n",
      "0.91 0.91 0.91 0.91 0.91 0.91 0.91 0.91 0.91 0.91 0.91 0.91 0.91 0.91 0.91 [Loss: 0.26] Epoch completed and model saved!\n",
      "Epoch: 16\n",
      "Entering into train function\n",
      "0 10 20 30 40 50 Validation\n",
      "0.91 0.92 0.91 0.92 0.92 0.92 0.92 0.92 0.92 0.92 0.92 0.92 0.92 0.92 0.92 [Loss: 0.25] Epoch completed and model saved!\n",
      "Epoch: 17\n",
      "Entering into train function\n",
      "0 10 20 30 40 50 Validation\n",
      "0.91 0.92 0.92 0.92 0.92 0.92 0.92 0.92 0.92 0.92 0.92 0.92 0.92 0.92 0.92 [Loss: 0.24] Epoch completed and model saved!\n",
      "Epoch: 18\n",
      "Entering into train function\n",
      "0 10 20 30 40 50 Validation\n",
      "0.92 0.92 0.92 0.92 0.92 0.92 0.92 0.92 0.92 0.92 0.92 0.92 0.92 0.92 0.92 [Loss: 0.24] Epoch completed and model saved!\n",
      "Epoch: 19\n",
      "Entering into train function\n",
      "0 10 20 30 40 50 Validation\n",
      "0.92 0.92 0.92 0.92 0.92 0.92 0.93 0.92 0.92 0.92 0.92 0.92 0.92 0.92 0.93 [Loss: 0.23] Epoch completed and model saved!\n"
     ]
    },
    {
     "data": {
      "text/plain": "<Figure size 640x480 with 1 Axes>",
      "image/png": "[encoded data removed]"
     },
     "metadata": {},
     "output_type": "display_data"
    }
   ],
   "source": [
    "layers=[3, 64]\n",
    "\n",
    "# Defining the model, optimizer and loss function\n",
    "unet = UNET(layers=layers, classes=10).to(device) # [3, 64, 128] # 256, 512, 1024\n",
    "ignore_index = True\n",
    "if ignore_index:\n",
    "    loss_function = nn.CrossEntropyLoss(ignore_index=255)   # why?\n",
    "else:\n",
    "    loss_function = nn.CrossEntropyLoss()\n",
    "\n",
    "\n",
    "now = datetime.now()  # current date and time\n",
    "date_time = now.strftime(\"%m_%d_%H_%M_%S\")\n",
    "model_name = str(layers)[1:-1].replace(', ', '_')\n",
    "\n",
    "global epoch\n",
    "epoch = 0 # epoch is initially assigned to 0. If LOAD_MODEL is true then\n",
    "          # epoch is set to the last value + 1.\n",
    "LOSS_VALS = [] # Defining a list to store loss values after every epoch\n",
    "\n",
    "# Loading a previous stored model from MODEL_PATH variable\n",
    "if LOAD_MODEL == True:\n",
    "    MODEL_PATH_SHORT = f'teacher_l{model_name}_e{epochs}_ii{ignore_index}_lr{lr}'\n",
    "    files = os.listdir('.')\n",
    "    MODEL_PATH = [f for f in files if MODEL_PATH_SHORT in f][0]\n",
    "    checkpoint = torch.load(MODEL_PATH, map_location=torch.device('cpu'))\n",
    "    unet.load_state_dict(checkpoint['model_state_dict'])\n",
    "    # optimizer.load_state_dict(checkpoint['optim_state_dict'])\n",
    "    # epoch = checkpoint['epoch']+1\n",
    "    # LOSS_VALS = checkpoint['loss_values']\n",
    "    del checkpoint # memory constraint\n",
    "    print(\"Model successfully loaded!\")\n",
    "\n",
    "elif LOAD_MODEL == False:\n",
    "    unet = unet.train()\n",
    "    optimizer = optim.Adam(unet.parameters(), lr=lr)\n",
    "    MODEL_PATH = f'teacher_l{model_name}_e{epochs}_lr{lr}_d{date_time}'\n",
    "    print('Training')\n",
    "    #Training the model for every epoch.\n",
    "    for e in range(epoch, epochs):\n",
    "        print(f'Epoch: {e}')\n",
    "        loss_val = train_function(train_loader, unet, optimizer, loss_function, device)\n",
    "        print('Validation')\n",
    "        val, preds_c, y = validation(unet, test_loader, device)\n",
    "        LOSS_VALS.append(loss_val)\n",
    "        print(f\"[Loss: {np.mean(loss_val):.2f}] Epoch completed and model saved!\")\n",
    "\n",
    "    MODEL_PATH = f'v{val:.2f}_{MODEL_PATH}'\n",
    "    torch.save({\n",
    "            'model_state_dict': unet.state_dict(),\n",
    "            'optim_state_dict': optimizer.state_dict(),\n",
    "            'epoch': e,\n",
    "            'loss_values': LOSS_VALS\n",
    "        }, MODEL_PATH)\n",
    "\n",
    "plt.plot(np.mean(np.array(LOSS_VALS),axis=1));"
   ],
   "metadata": {
    "collapsed": false,
    "ExecuteTime": {
     "end_time": "2023-05-08T07:07:55.527656417Z",
     "start_time": "2023-05-08T07:05:14.428868672Z"
    }
   }
  },
  {
   "cell_type": "markdown",
   "source": [
    "### Inference"
   ],
   "metadata": {
    "collapsed": false
   }
  },
  {
   "cell_type": "code",
   "execution_count": 34,
   "outputs": [
    {
     "name": "stdout",
     "output_type": "stream",
     "text": [
      "0.97 0.97 0.97 0.97 0.97 0.97 0.97 0.97 0.97 0.97 0.97 0.97 0.97 0.97 0.97 "
     ]
    }
   ],
   "source": [
    "val, preds_c, y = validation(unet, test_loader, device)\n"
   ],
   "metadata": {
    "collapsed": false,
    "ExecuteTime": {
     "end_time": "2023-05-08T06:10:04.379113011Z",
     "start_time": "2023-05-08T06:10:01.576694425Z"
    }
   }
  },
  {
   "cell_type": "code",
   "execution_count": 26,
   "outputs": [
    {
     "data": {
      "text/plain": "<Figure size 640x480 with 1 Axes>",
      "image/png": "[encoded data removed]"
     },
     "metadata": {},
     "output_type": "display_data"
    }
   ],
   "source": [
    "# fig, (ax1, ax2) = plt.subplots(1,2)\n",
    "# plt.imshow(preds_c.cpu()[50])\n",
    "plt.imshow(y.cpu()[50])\n",
    "plt.xticks([])\n",
    "plt.yticks([])\n",
    "plt.savefig(f'{MODEL_PATH}_{50}_y.jpg')\n",
    "# plt.savefig(f'{MODEL_PATH}_{50}.jpg')\n",
    "# ax2.imshow(y[50])"
   ],
   "metadata": {
    "collapsed": false,
    "ExecuteTime": {
     "end_time": "2023-05-08T06:02:08.627302701Z",
     "start_time": "2023-05-08T06:02:08.593501939Z"
    }
   }
  },
  {
   "cell_type": "code",
   "execution_count": 35,
   "outputs": [
    {
     "data": {
      "text/plain": "<Figure size 640x480 with 2 Axes>",
      "image/png": "[encoded data removed]"
     },
     "metadata": {},
     "output_type": "display_data"
    }
   ],
   "source": [
    "soft = torch.nn.Softmax(dim=0)\n",
    "\n",
    "idx = 0\n",
    "img = preds_c[idx].cpu()\n",
    "fig, (ax1, ax2) = plt.subplots(1,2)\n",
    "\n",
    "ax1.imshow(img);\n",
    "ax2.imshow(y[idx]);\n"
   ],
   "metadata": {
    "collapsed": false,
    "ExecuteTime": {
     "end_time": "2023-05-08T06:10:10.650912036Z",
     "start_time": "2023-05-08T06:10:10.492331605Z"
    }
   }
  },
  {
   "cell_type": "markdown",
   "source": [
    "---\n",
    "# Distillation\n",
    "Try distillation on the fly, teacher that generate ground truth, this is not quite the logits distillation\n"
   ],
   "metadata": {
    "collapsed": false
   }
  },
  {
   "cell_type": "code",
   "execution_count": 9,
   "outputs": [],
   "source": [
    "teacher = UNET(layers=[3, 64, 128] , classes=10).to(device) # [3, 64, 128] # 256, 512, 1024\n",
    "TEACHER_PATH = 'v0.97_teacher_l3_64_128_e10_lr5e-05_d05_07_23_04_02'\n",
    "checkpoint = torch.load(TEACHER_PATH, map_location=torch.device(device))\n",
    "teacher.load_state_dict(checkpoint['model_state_dict'])\n",
    "\n",
    "now = datetime.now()  # current date and time\n",
    "date_time = now.strftime(\"%m_%d_%H_%M_%S\")\n",
    "\n",
    "layers = [3, 64]\n",
    "# Defining the model, optimizer and loss function\n",
    "student = UNET(layers=layers, classes=10).to(device).train()\n",
    "\n",
    "\n",
    "model_name = str(layers)[1:-1].replace(', ', '_')\n",
    "STUDENT_PATH = f'student_l{model_name}_e{epochs}_lr{lr}_d{date_time}'\n",
    "\n",
    "optimizer_s = optim.Adam(student.parameters(), lr=lr)"
   ],
   "metadata": {
    "collapsed": false,
    "ExecuteTime": {
     "end_time": "2023-05-08T06:38:10.570081409Z",
     "start_time": "2023-05-08T06:38:10.549038467Z"
    }
   }
  },
  {
   "cell_type": "code",
   "execution_count": 5,
   "outputs": [
    {
     "data": {
      "text/plain": "(404618, 39434)"
     },
     "execution_count": 5,
     "metadata": {},
     "output_type": "execute_result"
    }
   ],
   "source": [
    "def get_n_params(model):\n",
    "    pp=0\n",
    "    for p in list(model.parameters()):\n",
    "        nn=1\n",
    "        for s in list(p.size()):\n",
    "            nn = nn*s\n",
    "        pp += nn\n",
    "    return pp\n",
    "\n",
    "get_n_params(teacher), get_n_params(student)"
   ],
   "metadata": {
    "collapsed": false,
    "ExecuteTime": {
     "end_time": "2023-05-08T06:23:20.588081074Z",
     "start_time": "2023-05-08T06:23:20.584077665Z"
    }
   }
  },
  {
   "cell_type": "code",
   "execution_count": 10,
   "outputs": [
    {
     "name": "stdout",
     "output_type": "stream",
     "text": [
      "here\n",
      "Epoch: 0\n",
      "Entering into train function\n",
      "0 1 2 3 4 5 6 7 8 9 10 11 12 13 14 15 16 17 18 19 20 21 22 23 24 25 26 27 28 29 30 31 32 33 34 35 36 37 38 39 40 41 42 43 44 45 46 47 48 49 50 51 52 53 54 55 56 57 58 59 [Loss: 5.20] Epoch completed and model saved!\n",
      "0.83 0.84 0.84 0.84 0.84 0.84 0.84 0.84 0.84 0.84 0.84 0.84 0.84 0.84 0.84 Epoch: 1\n",
      "Entering into train function\n",
      "0 1 2 3 4 5 6 7 8 9 10 11 12 13 14 15 16 17 18 19 20 21 22 23 24 25 26 27 28 29 30 31 32 33 34 35 36 37 38 39 40 41 42 43 44 45 46 47 48 49 50 51 52 53 54 55 56 57 58 59 [Loss: 3.56] Epoch completed and model saved!\n",
      "0.83 0.84 0.84 0.84 0.84 0.84 0.84 0.84 0.84 0.84 0.84 0.84 0.84 0.84 0.84 Epoch: 2\n",
      "Entering into train function\n",
      "0 1 2 3 4 5 6 7 8 9 10 11 12 13 14 15 16 17 18 19 20 21 22 23 24 25 26 27 28 29 30 31 32 33 34 35 36 37 38 39 40 41 42 43 44 45 46 47 48 49 50 51 52 53 54 55 56 57 58 59 [Loss: 2.28] Epoch completed and model saved!\n",
      "0.83 0.84 0.84 0.84 0.84 0.84 0.85 0.84 0.84 0.84 0.84 0.84 0.84 0.84 0.84 Epoch: 3\n",
      "Entering into train function\n",
      "0 1 2 3 4 5 6 7 8 9 10 11 12 13 14 15 16 17 18 19 20 21 22 23 24 25 26 27 28 29 30 31 32 33 34 35 36 37 38 39 40 41 42 43 44 45 46 47 48 49 50 51 52 53 54 55 56 57 58 59 [Loss: 1.60] Epoch completed and model saved!\n",
      "0.84 0.85 0.84 0.84 0.85 0.85 0.85 0.85 0.85 0.84 0.84 0.84 0.84 0.84 0.85 Epoch: 4\n",
      "Entering into train function\n",
      "0 1 2 3 4 5 6 7 8 9 10 11 12 13 14 15 16 17 18 19 20 21 22 23 24 25 26 27 28 29 30 31 32 33 34 35 36 37 38 39 40 41 42 43 44 45 46 47 48 49 50 51 52 53 54 55 56 57 58 59 [Loss: 1.32] Epoch completed and model saved!\n",
      "0.84 0.85 0.84 0.85 0.85 0.85 0.85 0.85 0.85 0.85 0.85 0.85 0.85 0.85 0.85 Epoch: 5\n",
      "Entering into train function\n",
      "0 1 2 3 4 5 6 7 8 9 10 11 12 13 14 15 16 17 18 19 20 21 22 23 24 25 26 27 28 29 30 31 32 33 34 35 36 37 38 39 40 41 42 43 44 45 46 47 48 49 50 51 52 53 54 55 56 57 58 59 [Loss: 1.18] Epoch completed and model saved!\n",
      "0.84 0.85 0.85 0.85 0.85 0.85 0.85 0.85 0.85 0.85 0.85 0.85 0.85 0.85 0.85 Epoch: 6\n",
      "Entering into train function\n",
      "0 1 2 3 4 5 6 7 8 9 10 11 12 13 14 15 16 17 18 19 20 21 22 23 24 25 26 27 28 29 30 31 32 33 34 35 36 37 38 39 40 41 42 43 44 45 46 47 48 49 50 51 52 53 54 55 56 57 58 59 [Loss: 1.09] Epoch completed and model saved!\n",
      "0.84 0.85 0.85 0.85 0.85 0.85 0.85 0.85 0.85 0.85 0.85 0.85 0.85 0.85 0.85 Epoch: 7\n",
      "Entering into train function\n",
      "0 1 2 3 4 5 6 7 8 9 10 11 12 13 14 15 16 17 18 19 20 21 22 23 24 25 26 27 28 29 30 31 32 33 34 35 36 37 38 39 40 41 42 43 44 45 46 47 48 49 50 51 52 53 54 55 56 57 58 59 [Loss: 1.02] Epoch completed and model saved!\n",
      "0.85 0.86 0.85 0.86 0.86 0.86 0.86 0.86 0.86 0.86 0.86 0.86 0.85 0.86 0.86 Epoch: 8\n",
      "Entering into train function\n",
      "0 1 2 3 4 5 6 7 8 9 10 11 12 13 14 15 16 17 18 19 20 21 22 23 24 25 26 27 28 29 30 31 32 33 34 35 36 37 38 39 40 41 42 43 44 45 46 47 48 49 50 51 52 53 54 55 56 57 58 59 [Loss: 0.96] Epoch completed and model saved!\n",
      "0.85 0.86 0.86 0.86 0.86 0.86 0.86 0.86 0.86 0.86 0.86 0.86 0.86 0.86 0.86 Epoch: 9\n",
      "Entering into train function\n",
      "0 1 2 3 4 5 6 7 8 9 10 11 12 13 14 15 16 17 18 19 20 21 22 23 24 25 26 27 28 29 30 31 32 33 34 35 36 37 38 39 40 41 42 43 44 45 46 47 48 49 50 51 52 53 54 55 56 57 58 59 [Loss: 0.90] Epoch completed and model saved!\n",
      "0.85 0.86 0.86 0.86 0.86 0.86 0.86 0.86 0.86 0.86 0.86 0.86 0.86 0.86 0.86 Epoch: 10\n",
      "Entering into train function\n",
      "0 1 2 3 4 5 6 7 8 9 10 11 12 13 14 15 16 17 18 19 20 21 22 23 24 25 26 27 28 29 30 31 32 33 34 35 36 37 38 39 40 41 42 43 44 45 46 47 48 49 50 51 52 53 54 55 56 57 58 59 [Loss: 0.85] Epoch completed and model saved!\n",
      "0.86 0.87 0.86 0.87 0.87 0.87 0.87 0.87 0.87 0.87 0.87 0.87 0.87 0.87 0.87 Epoch: 11\n",
      "Entering into train function\n",
      "0 1 2 3 4 5 6 7 8 9 10 11 12 13 14 15 16 17 18 19 20 21 22 23 24 25 26 27 28 29 30 31 32 33 34 35 36 37 38 39 40 41 42 43 44 45 46 47 48 49 50 51 52 53 54 55 56 57 58 59 [Loss: 0.79] Epoch completed and model saved!\n",
      "0.86 0.87 0.87 0.87 0.87 0.87 0.87 0.87 0.87 0.87 0.87 0.87 0.87 0.87 0.87 Epoch: 12\n",
      "Entering into train function\n",
      "0 1 2 3 4 5 6 7 8 9 10 11 12 13 14 15 16 17 18 19 20 21 22 23 24 25 26 27 28 29 30 31 32 33 34 35 36 37 38 39 40 41 42 43 44 45 46 47 48 49 50 51 52 53 54 55 56 57 58 59 [Loss: 0.74] Epoch completed and model saved!\n",
      "0.87 0.88 0.87 0.88 0.88 0.88 0.88 0.88 0.88 0.88 0.88 0.88 0.88 0.88 0.88 Epoch: 13\n",
      "Entering into train function\n",
      "0 1 2 3 4 5 6 7 8 9 10 11 12 13 14 15 16 17 18 19 20 21 22 23 24 25 26 27 28 29 30 31 32 33 34 35 36 37 38 39 40 41 42 43 44 45 46 47 48 49 50 51 52 53 54 55 56 57 58 59 [Loss: 0.69] Epoch completed and model saved!\n",
      "0.88 0.88 0.88 0.88 0.88 0.88 0.88 0.88 0.88 0.88 0.88 0.88 0.88 0.88 0.88 Epoch: 14\n",
      "Entering into train function\n",
      "0 1 2 3 4 5 6 7 8 9 10 11 12 13 14 15 16 17 18 19 20 21 22 23 24 25 26 27 28 29 30 31 32 33 34 35 36 37 38 39 40 41 42 43 44 45 46 47 48 49 50 51 52 53 54 55 56 57 58 59 [Loss: 0.64] Epoch completed and model saved!\n",
      "0.88 0.89 0.88 0.89 0.89 0.89 0.89 0.89 0.89 0.89 0.89 0.89 0.89 0.89 0.89 Epoch: 15\n",
      "Entering into train function\n",
      "0 1 2 3 4 5 6 7 8 9 10 11 12 13 14 15 16 17 18 19 20 21 22 23 24 25 26 27 28 29 30 31 32 33 34 35 36 37 38 39 40 41 42 43 44 45 46 47 48 49 50 51 52 53 54 55 56 57 58 59 [Loss: 0.60] Epoch completed and model saved!\n",
      "0.89 0.89 0.89 0.89 0.89 0.89 0.89 0.89 0.89 0.89 0.89 0.89 0.89 0.89 0.89 Epoch: 16\n",
      "Entering into train function\n",
      "0 1 2 3 4 5 6 7 8 9 10 11 12 13 14 15 16 17 18 19 20 21 22 23 24 25 26 27 28 29 30 31 32 33 34 35 36 37 38 39 40 41 42 43 44 45 46 47 48 49 50 51 52 53 54 55 56 57 58 59 [Loss: 0.57] Epoch completed and model saved!\n",
      "0.89 0.90 0.89 0.90 0.90 0.90 0.90 0.90 0.90 0.90 0.90 0.90 0.90 0.90 0.90 Epoch: 17\n",
      "Entering into train function\n",
      "0 1 2 3 4 5 6 7 8 9 10 11 12 13 14 15 16 17 18 19 20 21 22 23 24 25 26 27 28 29 30 31 32 33 34 35 36 37 38 39 40 41 42 43 44 45 46 47 48 49 50 51 52 53 54 55 56 57 58 59 [Loss: 0.54] Epoch completed and model saved!\n",
      "0.90 0.90 0.90 0.90 0.90 0.90 0.90 0.90 0.90 0.90 0.90 0.90 0.90 0.90 0.90 Epoch: 18\n",
      "Entering into train function\n",
      "0 1 2 3 4 5 6 7 8 9 10 11 12 13 14 15 16 17 18 19 20 21 22 23 24 25 26 27 28 29 30 31 32 33 34 35 36 37 38 39 40 41 42 43 44 45 46 47 48 49 50 51 52 53 54 55 56 57 58 59 [Loss: 0.52] Epoch completed and model saved!\n",
      "0.90 0.90 0.90 0.91 0.91 0.91 0.91 0.91 0.91 0.91 0.91 0.91 0.91 0.91 0.91 Epoch: 19\n",
      "Entering into train function\n",
      "0 1 2 3 4 5 6 7 8 9 10 11 12 13 14 15 16 17 18 19 20 21 22 23 24 25 26 27 28 29 30 31 32 33 34 35 36 37 38 39 40 41 42 43 44 45 46 47 48 49 50 51 52 53 54 55 56 57 58 59 [Loss: 0.50] Epoch completed and model saved!\n",
      "0.90 0.91 0.91 0.91 0.91 0.91 0.91 0.91 0.91 0.91 0.91 0.91 0.91 0.91 0.91 "
     ]
    },
    {
     "data": {
      "text/plain": "<Figure size 640x480 with 1 Axes>",
      "image/png": "[encoded data removed]"
     },
     "metadata": {},
     "output_type": "display_data"
    }
   ],
   "source": [
    "print('here')\n",
    "epochs = 20\n",
    "LOSS_VALS = []\n",
    "for e in range(0, epochs):\n",
    "        print(f'Epoch: {e}')\n",
    "        loss_val = train_function_distillation(train_loader, teacher, student, optimizer_s, device)\n",
    "        print(f\"[Loss: {np.mean(loss_val):.2f}] Epoch completed and model saved!\")\n",
    "        LOSS_VALS.append(loss_val)\n",
    "\n",
    "        val, preds_c, y = validation(student, test_loader, device)\n",
    "\n",
    "STUDENT_PATH = f'v{val:.2f}_{STUDENT_PATH}_{TEACHER_PATH}'\n",
    "torch.save({\n",
    "    'model_state_dict': student.state_dict(),\n",
    "    'optim_state_dict': optimizer_s.state_dict(),\n",
    "    'epoch': e,\n",
    "    'loss_values': LOSS_VALS\n",
    "}, STUDENT_PATH)\n",
    "plt.plot(np.mean(np.array(LOSS_VALS),axis=1));"
   ],
   "metadata": {
    "collapsed": false,
    "ExecuteTime": {
     "end_time": "2023-05-08T06:44:04.151243971Z",
     "start_time": "2023-05-08T06:38:14.415848919Z"
    }
   }
  },
  {
   "cell_type": "code",
   "execution_count": 7,
   "outputs": [
    {
     "data": {
      "text/plain": "<Figure size 640x480 with 1 Axes>",
      "image/png": "[encoded data removed]"
     },
     "metadata": {},
     "output_type": "display_data"
    }
   ],
   "source": [],
   "metadata": {
    "collapsed": false,
    "ExecuteTime": {
     "end_time": "2023-05-08T06:37:48.589145466Z",
     "start_time": "2023-05-08T06:37:48.459263992Z"
    }
   }
  },
  {
   "cell_type": "code",
   "execution_count": 7,
   "outputs": [
    {
     "data": {
      "text/plain": "torch.Size([27, 10, 64, 128])"
     },
     "execution_count": 7,
     "metadata": {},
     "output_type": "execute_result"
    }
   ],
   "source": [
    "# val, preds_c, y = validation(student, test_loader, device)\n"
   ],
   "metadata": {
    "collapsed": false,
    "ExecuteTime": {
     "end_time": "2023-05-08T06:17:16.300542979Z",
     "start_time": "2023-05-08T06:17:16.296687523Z"
    }
   }
  },
  {
   "cell_type": "code",
   "execution_count": 3,
   "outputs": [
    {
     "name": "stdout",
     "output_type": "stream",
     "text": [
      "0.90 0.91 0.91 0.91 0.91 0.91 0.91 0.91 0.91 0.91 0.91 0.91 0.91 0.91 0.91 "
     ]
    },
    {
     "data": {
      "text/plain": "<Figure size 640x480 with 1 Axes>",
      "image/png": "[encoded data removed]"
     },
     "metadata": {},
     "output_type": "display_data"
    }
   ],
   "source": [
    "STUDENT_PATH ='v0.91_student_l3_64_e20_lr5e-05_d05_07_23_38_10'\n",
    "checkpoint = torch.load(STUDENT_PATH, map_location=torch.device('cuda:0'))\n",
    "student = UNET(layers=[3, 64], classes=10).to(device).train()\n",
    "\n",
    "student.load_state_dict(checkpoint['model_state_dict'])\n",
    "\n",
    "val, preds_c, y = validation(student, test_loader, device)\n",
    "\n",
    "idx = 50\n",
    "# preds_class.shape, y.shape\n",
    "# fig, (ax1, ax2) = plt.subplots(2,1)\n",
    "plt.imshow(preds_c.cpu()[idx])\n",
    "# ax2.imshow(y.cpu()[idx])\n",
    "\n",
    "plt.xticks([])\n",
    "plt.yticks([])\n",
    "plt.savefig(f'{STUDENT_PATH}_{50}_y.jpg')"
   ],
   "metadata": {
    "collapsed": false,
    "ExecuteTime": {
     "end_time": "2023-05-08T07:19:54.709698527Z",
     "start_time": "2023-05-08T07:19:53.658639693Z"
    }
   }
  },
  {
   "cell_type": "code",
   "execution_count": null,
   "outputs": [],
   "source": [
    "# # plt.imshow(preds_c.cpu()[50])\n",
    "# plt.imshow(y.cpu()[50])\n",
    "# plt.xticks([])\n",
    "# plt.yticks([])\n",
    "# plt.savefig(f'{MODEL_PATH}_{50}_y.jpg')"
   ],
   "metadata": {
    "collapsed": false
   }
  }
 ],
 "metadata": {
  "kernelspec": {
   "display_name": "Python 3",
   "language": "python",
   "name": "python3"
  },
  "language_info": {
   "codemirror_mode": {
    "name": "ipython",
    "version": 2
   },
   "file_extension": ".py",
   "mimetype": "text/x-python",
   "name": "python",
   "nbconvert_exporter": "python",
   "pygments_lexer": "ipython2",
   "version": "2.7.6"
  }
 },
 "nbformat": 4,
 "nbformat_minor": 0
}
