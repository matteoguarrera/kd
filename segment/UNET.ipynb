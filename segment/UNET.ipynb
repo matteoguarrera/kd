{
 "cells": [
  {
   "cell_type": "code",
   "execution_count": 2,
   "metadata": {
    "collapsed": true,
    "ExecuteTime": {
     "end_time": "2023-05-07T22:33:42.123699092Z",
     "start_time": "2023-05-07T22:33:41.439572988Z"
    }
   },
   "outputs": [
    {
     "name": "stdout",
     "output_type": "stream",
     "text": [
      "Data Loaded Successfully!\n",
      "Model successfully loaded!\n"
     ]
    }
   ],
   "source": [
    "from utils import *\n",
    "from model import UNET\n",
    "\n",
    "dataset = MyDataset()\n",
    "train_dataset, test_dataset = torch.utils.data.random_split(dataset, [0.8, 0.2])\n",
    "train_loader = torch.utils.data.DataLoader(train_dataset, batch_size=128, shuffle=False, num_workers=4)\n",
    "test_loader = torch.utils.data.DataLoader(test_dataset, batch_size=128, shuffle=False, num_workers=4)\n",
    "\n",
    "DEVICE = 'cuda:0' if torch.cuda.is_available() else \"cpu\"\n",
    "MODEL_PATH = 'YOUR-MODEL-PATH'\n",
    "LOAD_MODEL = True\n",
    "BATCH_SIZE = 16\n",
    "LEARNING_RATE = 0.0005\n",
    "EPOCHS = 5\n",
    "\n",
    "def train_function(data, model, optim, loss_fn, device):\n",
    "    print('Entering into train function')\n",
    "    loss_values = []\n",
    "    for X, y in data:\n",
    "\n",
    "        X, y = X.to(device), y.to(device)\n",
    "        preds = model(X.float())\n",
    "\n",
    "        loss = loss_fn(preds, y.long())\n",
    "        optim.zero_grad()\n",
    "        loss.backward()\n",
    "        optimizer.step()\n",
    "        loss_values.append(loss.item())\n",
    "    return loss_values\n",
    "\n",
    "\n",
    "global epoch\n",
    "epoch = 0 # epoch is initially assigned to 0. If LOAD_MODEL is true then\n",
    "          # epoch is set to the last value + 1.\n",
    "LOSS_VALS = [] # Defining a list to store loss values after every epoch\n",
    "\n",
    "\n",
    "# Defining the model, optimizer and loss function\n",
    "unet = UNET(layers=[3, 64, 128], classes=10).to(DEVICE).train() # [3, 64, 128] # 256, 512, 1024\n",
    "optimizer = optim.Adam(unet.parameters(), lr=LEARNING_RATE)\n",
    "loss_function = nn.CrossEntropyLoss(ignore_index=255)  # why?\n",
    "\n",
    "# Loading a previous stored model from MODEL_PATH variable\n",
    "if LOAD_MODEL == True:\n",
    "    checkpoint = torch.load(MODEL_PATH, map_location=torch.device('cpu'))\n",
    "    unet.load_state_dict(checkpoint['model_state_dict'])\n",
    "    optimizer.load_state_dict(checkpoint['optim_state_dict'])\n",
    "    epoch = checkpoint['epoch']+1\n",
    "    LOSS_VALS = checkpoint['loss_values']\n",
    "    print(\"Model successfully loaded!\")\n",
    "\n",
    "else:\n",
    "    #Training the model for every epoch.\n",
    "    for e in range(epoch, EPOCHS):\n",
    "        print(f'Epoch: {e}')\n",
    "        loss_val = train_function(train_loader, unet, optimizer, loss_function, DEVICE)\n",
    "        LOSS_VALS.append(loss_val)\n",
    "        torch.save({\n",
    "            'model_state_dict': unet.state_dict(),\n",
    "            'optim_state_dict': optimizer.state_dict(),\n",
    "            'epoch': e,\n",
    "            'loss_values': LOSS_VALS\n",
    "        }, MODEL_PATH)\n",
    "        print(\"Epoch completed and model successfully saved!\")\n"
   ]
  },
  {
   "cell_type": "code",
   "execution_count": 26,
   "outputs": [
    {
     "data": {
      "text/plain": "<Figure size 640x480 with 2 Axes>",
      "image/png": "[encoded data removed]"
     },
     "metadata": {},
     "output_type": "display_data"
    }
   ],
   "source": [
    "soft = torch.nn.Softmax(dim=0)\n",
    "\n",
    "for x, y in test_loader:\n",
    "    with torch.no_grad():\n",
    "        preds = unet(x.float())\n",
    "    break\n",
    "\n",
    "\n",
    "import matplotlib.pyplot as plt\n",
    "# plt.imshow([1])\n",
    "idx = 99\n",
    "img = torch.argmax(soft(preds[idx]), dim=0)\n",
    "fig, (ax1, ax2) = plt.subplots(1,2)\n",
    "\n",
    "ax1.imshow(img);\n",
    "ax2.imshow(y[idx]);"
   ],
   "metadata": {
    "collapsed": false,
    "ExecuteTime": {
     "end_time": "2023-05-07T22:36:16.781342067Z",
     "start_time": "2023-05-07T22:36:16.666461093Z"
    }
   }
  }
 ],
 "metadata": {
  "kernelspec": {
   "display_name": "Python 3",
   "language": "python",
   "name": "python3"
  },
  "language_info": {
   "codemirror_mode": {
    "name": "ipython",
    "version": 2
   },
   "file_extension": ".py",
   "mimetype": "text/x-python",
   "name": "python",
   "nbconvert_exporter": "python",
   "pygments_lexer": "ipython2",
   "version": "2.7.6"
  }
 },
 "nbformat": 4,
 "nbformat_minor": 0
}
